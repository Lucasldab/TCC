{
 "cells": [
  {
   "cell_type": "code",
   "execution_count": 62,
   "metadata": {},
   "outputs": [],
   "source": [
    "from skopt.sampler import Lhs\n",
    "import numpy as np\n",
    "from skopt.space import Space"
   ]
  },
  {
   "cell_type": "code",
   "execution_count": 63,
   "metadata": {},
   "outputs": [
    {
     "name": "stdout",
     "output_type": "stream",
     "text": [
      "Space([Real(low=16.0, high=32.0, prior='uniform', transform='identity')])\n"
     ]
    }
   ],
   "source": [
    "n_samples = 10000\n",
    "\n",
    "space_conv_n = Space([(16.,32.)])\n",
    "space_conv_f = Space([(1.,3.)])\n",
    "space_L1 = Space([(32.,64.)])\n",
    "space_L2 = Space([(16.,32.)])\n",
    "space_batch = Space([(32.,128.)])"
   ]
  },
  {
   "cell_type": "code",
   "execution_count": 64,
   "metadata": {},
   "outputs": [],
   "source": [
    "lhs = Lhs(lhs_type=\"classic\", criterion=None)\n",
    "lhs_samples_conv_n = lhs.generate(space.dimensions, n_samples)"
   ]
  },
  {
   "cell_type": "code",
   "execution_count": 66,
   "metadata": {},
   "outputs": [],
   "source": [
    "lhs_samples_conv_n = np.round(np.array(lhs_samples_conv_n)).astype(int)"
   ]
  },
  {
   "cell_type": "code",
   "execution_count": null,
   "metadata": {},
   "outputs": [],
   "source": []
  }
 ],
 "metadata": {
  "kernelspec": {
   "display_name": "test",
   "language": "python",
   "name": "python3"
  },
  "language_info": {
   "codemirror_mode": {
    "name": "ipython",
    "version": 3
   },
   "file_extension": ".py",
   "mimetype": "text/x-python",
   "name": "python",
   "nbconvert_exporter": "python",
   "pygments_lexer": "ipython3",
   "version": "3.9.13"
  },
  "orig_nbformat": 4
 },
 "nbformat": 4,
 "nbformat_minor": 2
}
