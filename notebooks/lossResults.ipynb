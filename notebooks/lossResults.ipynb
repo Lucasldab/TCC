{
 "cells": [
  {
   "cell_type": "code",
   "execution_count": 2,
   "metadata": {},
   "outputs": [],
   "source": [
    "import os\n",
    "import csv\n",
    "import pandas as pd\n",
    "import numpy as np"
   ]
  },
  {
   "cell_type": "code",
   "execution_count": 81,
   "metadata": {},
   "outputs": [],
   "source": [
    "def getResults(modelMLP,samplingMethod,PSO=False,num_particles=False):\n",
    "    alllosses = []\n",
    "    for datasetNumber in range(1,21):\n",
    "        if modelMLP == 'MLP':\n",
    "            if PSO == False:\n",
    "                trainingFile = 'trainings/Fully_Connected_'+samplingMethod+'/training_'+str(datasetNumber)+'.csv'\n",
    "            else:\n",
    "                trainingFile = 'trainings/Fully_Connected_PSO/MLP_'+str(num_particles)+'_Results.csv'\n",
    "        elif modelMLP == 'CNN':\n",
    "            if PSO == False:\n",
    "                trainingFile = 'trainings/'+modelMLP+'_'+samplingMethod+'/training_'+str(datasetNumber)+'.csv'\n",
    "            else:\n",
    "                trainingFile = 'trainings/'+modelMLP+'_PSO/CNN_'+samplingMethod+'_'+str(num_particles)+'_Results.csv'\n",
    "        dataset = pd.read_csv(trainingFile)\n",
    "        onlyLoss = dataset['Loss']\n",
    "        alllosses.append(onlyLoss[np.argmin(onlyLoss)])\n",
    "    meanLosses = np.mean(alllosses)\n",
    "    stdLosses = np.std(alllosses)\n",
    "    varLosses = np.var(alllosses)\n",
    "    return meanLosses, stdLosses, varLosses, alllosses"
   ]
  },
  {
   "cell_type": "code",
   "execution_count": 3,
   "metadata": {},
   "outputs": [],
   "source": [
    "def getResultsPSO(modelMLP,samplingMethod,PSO=False,num_particles=False):\n",
    "    alllosses = []\n",
    "    if modelMLP == 'MLP':\n",
    "        trainingFile = 'trainings/Fully_Connected_PSO/MLP_'+samplingMethod+'_'+str(num_particles)+'_Results.csv'\n",
    "    elif modelMLP == 'CNN':\n",
    "        trainingFile = 'trainings/'+modelMLP+'_PSO/CNN_'+samplingMethod+'_'+str(num_particles)+'_Results.csv'\n",
    "    dataset = pd.read_csv(trainingFile)\n",
    "    meanLosses = np.mean(dataset['Loss'])\n",
    "    stdLosses = np.std(dataset['Loss'])\n",
    "    varLosses = np.var(dataset['Loss'])\n",
    "    return meanLosses, stdLosses, varLosses, alllosses"
   ]
  },
  {
   "cell_type": "markdown",
   "metadata": {},
   "source": [
    "CNN LHS"
   ]
  },
  {
   "cell_type": "code",
   "execution_count": 83,
   "metadata": {},
   "outputs": [
    {
     "name": "stdout",
     "output_type": "stream",
     "text": [
      "Média: 0.026571318227797708\n",
      "Desvio Padrão: 0.0015272665547250328\n",
      "Variância: 2.3325431291816714e-06\n"
     ]
    }
   ],
   "source": [
    "meanLosses, stdLosses, varLosses, allLossesLHS = getResults('CNN','LHS')\n",
    "\n",
    "print(\"Média: {}\\nDesvio Padrão: {}\\nVariância: {}\".format(meanLosses,stdLosses,varLosses))"
   ]
  },
  {
   "cell_type": "markdown",
   "metadata": {},
   "source": [
    "MLP LHS"
   ]
  },
  {
   "cell_type": "code",
   "execution_count": 84,
   "metadata": {},
   "outputs": [
    {
     "name": "stdout",
     "output_type": "stream",
     "text": [
      "Média: 0.060270741581916774\n",
      "Desvio Padrão: 0.0013797984547740199\n",
      "Variância: 1.903843775796773e-06\n"
     ]
    }
   ],
   "source": [
    "meanLosses, stdLosses, varLosses, allLossesLHS = getResults('MLP','LHS')\n",
    "\n",
    "print(\"Média: {}\\nDesvio Padrão: {}\\nVariância: {}\".format(meanLosses,stdLosses,varLosses))"
   ]
  },
  {
   "cell_type": "markdown",
   "metadata": {},
   "source": [
    "CNN Random"
   ]
  },
  {
   "cell_type": "code",
   "execution_count": 85,
   "metadata": {},
   "outputs": [
    {
     "name": "stdout",
     "output_type": "stream",
     "text": [
      "Média: 0.026644943282008126\n",
      "Desvio Padrão: 0.0013383995641576046\n",
      "Variância: 1.791313393337266e-06\n"
     ]
    }
   ],
   "source": [
    "meanLosses, stdLosses, varLosses, allLossesRandom = getResults('CNN','random')\n",
    "\n",
    "print(\"Média: {}\\nDesvio Padrão: {}\\nVariância: {}\".format(meanLosses,stdLosses,varLosses))"
   ]
  },
  {
   "cell_type": "markdown",
   "metadata": {},
   "source": [
    "MLP Random"
   ]
  },
  {
   "cell_type": "code",
   "execution_count": 86,
   "metadata": {},
   "outputs": [
    {
     "name": "stdout",
     "output_type": "stream",
     "text": [
      "Média: 0.05989130102097984\n",
      "Desvio Padrão: 0.001303328860397604\n",
      "Variância: 1.6986661183453168e-06\n"
     ]
    }
   ],
   "source": [
    "meanLosses, stdLosses, varLosses, allLossesRandom = getResults('MLP','random')\n",
    "\n",
    "print(\"Média: {}\\nDesvio Padrão: {}\\nVariância: {}\".format(meanLosses,stdLosses,varLosses))"
   ]
  },
  {
   "cell_type": "markdown",
   "metadata": {},
   "source": [
    "CNN Grid"
   ]
  },
  {
   "cell_type": "code",
   "execution_count": 87,
   "metadata": {},
   "outputs": [
    {
     "name": "stdout",
     "output_type": "stream",
     "text": [
      "Média: 0.026772191654890733\n",
      "Desvio Padrão: 0.0014556514782407513\n",
      "Variância: 2.1189212261044843e-06\n"
     ]
    }
   ],
   "source": [
    "meanLosses, stdLosses, varLosses, allLossesGrid = getResults('CNN','grid')\n",
    "\n",
    "print(\"Média: {}\\nDesvio Padrão: {}\\nVariância: {}\".format(meanLosses,stdLosses,varLosses))"
   ]
  },
  {
   "cell_type": "markdown",
   "metadata": {},
   "source": [
    "MLP Grid"
   ]
  },
  {
   "cell_type": "code",
   "execution_count": 88,
   "metadata": {},
   "outputs": [
    {
     "name": "stdout",
     "output_type": "stream",
     "text": [
      "Média: 0.05963626615703101\n",
      "Desvio Padrão: 0.00118568893391583\n",
      "Variância: 1.4058582480104574e-06\n"
     ]
    }
   ],
   "source": [
    "meanLosses, stdLosses, varLosses, allLossesGrid = getResults('MLP','grid')\n",
    "\n",
    "print(\"Média: {}\\nDesvio Padrão: {}\\nVariância: {}\".format(meanLosses,stdLosses,varLosses))"
   ]
  },
  {
   "cell_type": "markdown",
   "metadata": {},
   "source": [
    "CNN TPE"
   ]
  },
  {
   "cell_type": "code",
   "execution_count": null,
   "metadata": {},
   "outputs": [],
   "source": [
    "meanLosses, stdLosses, varLosses, allLossesTPE = getResults('CNN','TPE')\n",
    "\n",
    "print(\"Média: {}\\nDesvio Padrão: {}\\nVariância: {}\".format(meanLosses,stdLosses,varLosses))"
   ]
  },
  {
   "cell_type": "markdown",
   "metadata": {},
   "source": [
    "MLP TPE"
   ]
  },
  {
   "cell_type": "code",
   "execution_count": null,
   "metadata": {},
   "outputs": [
    {
     "name": "stdout",
     "output_type": "stream",
     "text": [
      "Média: 0.07804343530109946\n",
      "Desvio Padrão: 0.002290680342868532\n",
      "Variância: 5.247216433204296e-06\n"
     ]
    }
   ],
   "source": [
    "meanLosses, stdLosses, varLosses, allLossesTPE = getResults('MLP','TPE')\n",
    "\n",
    "print(\"Média: {}\\nDesvio Padrão: {}\\nVariância: {}\".format(meanLosses,stdLosses,varLosses))"
   ]
  },
  {
   "cell_type": "markdown",
   "metadata": {},
   "source": [
    "CNN PSO 50"
   ]
  },
  {
   "cell_type": "code",
   "execution_count": 90,
   "metadata": {},
   "outputs": [
    {
     "name": "stdout",
     "output_type": "stream",
     "text": [
      "Média: 0.13244825080037115\n",
      "Desvio Padrão: 0.1722673691602813\n",
      "Variância: 0.029676046477404634\n"
     ]
    }
   ],
   "source": [
    "meanLosses, stdLosses, varLosses, allLossesPSO = getResultsPSO('CNN','grid',PSO=True, num_particles=50)\n",
    "\n",
    "print(\"Média: {}\\nDesvio Padrão: {}\\nVariância: {}\".format(meanLosses,stdLosses,varLosses))"
   ]
  },
  {
   "cell_type": "code",
   "execution_count": 91,
   "metadata": {},
   "outputs": [
    {
     "name": "stdout",
     "output_type": "stream",
     "text": [
      "Média: 0.09701231718063352\n",
      "Desvio Padrão: 0.1361152236233159\n",
      "Variância: 0.018527354102025294\n"
     ]
    }
   ],
   "source": [
    "meanLosses, stdLosses, varLosses, allLossesPSO = getResultsPSO('CNN','random',PSO=True, num_particles=50)\n",
    "\n",
    "print(\"Média: {}\\nDesvio Padrão: {}\\nVariância: {}\".format(meanLosses,stdLosses,varLosses))"
   ]
  },
  {
   "cell_type": "code",
   "execution_count": 92,
   "metadata": {},
   "outputs": [
    {
     "name": "stdout",
     "output_type": "stream",
     "text": [
      "Média: 0.13612932637333866\n",
      "Desvio Padrão: 0.16439311028517317\n",
      "Variância: 0.027025094709233106\n"
     ]
    }
   ],
   "source": [
    "meanLosses, stdLosses, varLosses, allLossesPSO = getResultsPSO('CNN','LHS',PSO=True, num_particles=50)\n",
    "\n",
    "print(\"Média: {}\\nDesvio Padrão: {}\\nVariância: {}\".format(meanLosses,stdLosses,varLosses))"
   ]
  },
  {
   "cell_type": "markdown",
   "metadata": {},
   "source": [
    "CNN PSO 100"
   ]
  },
  {
   "cell_type": "code",
   "execution_count": 93,
   "metadata": {},
   "outputs": [
    {
     "name": "stdout",
     "output_type": "stream",
     "text": [
      "Média: 0.10805158503353593\n",
      "Desvio Padrão: 0.14802398662879784\n",
      "Variância: 0.02191110061748252\n"
     ]
    }
   ],
   "source": [
    "meanLosses, stdLosses, varLosses, allLossesPSO = getResultsPSO('CNN','grid',PSO=True, num_particles=100)\n",
    "\n",
    "print(\"Média: {}\\nDesvio Padrão: {}\\nVariância: {}\".format(meanLosses,stdLosses,varLosses))"
   ]
  },
  {
   "cell_type": "code",
   "execution_count": 94,
   "metadata": {},
   "outputs": [
    {
     "name": "stdout",
     "output_type": "stream",
     "text": [
      "Média: 0.05618950929492707\n",
      "Desvio Padrão: 0.016817477838366686\n",
      "Variância: 0.0002828275608439546\n"
     ]
    }
   ],
   "source": [
    "meanLosses, stdLosses, varLosses, allLossesPSO = getResultsPSO('CNN','random',PSO=True, num_particles=100)\n",
    "\n",
    "print(\"Média: {}\\nDesvio Padrão: {}\\nVariância: {}\".format(meanLosses,stdLosses,varLosses))"
   ]
  },
  {
   "cell_type": "code",
   "execution_count": 95,
   "metadata": {},
   "outputs": [
    {
     "name": "stdout",
     "output_type": "stream",
     "text": [
      "Média: 0.11390486620366572\n",
      "Desvio Padrão: 0.15614547466472004\n",
      "Variância: 0.024381409258270724\n"
     ]
    }
   ],
   "source": [
    "meanLosses, stdLosses, varLosses, allLossesPSO = getResultsPSO('CNN','LHS',PSO=True, num_particles=100)\n",
    "\n",
    "print(\"Média: {}\\nDesvio Padrão: {}\\nVariância: {}\".format(meanLosses,stdLosses,varLosses))"
   ]
  },
  {
   "cell_type": "markdown",
   "metadata": {},
   "source": [
    "CNN PSO 200"
   ]
  },
  {
   "cell_type": "code",
   "execution_count": 96,
   "metadata": {},
   "outputs": [
    {
     "name": "stdout",
     "output_type": "stream",
     "text": [
      "Média: 0.17932370882481335\n",
      "Desvio Padrão: 0.21917373068144166\n",
      "Variância: 0.048037124220821126\n"
     ]
    }
   ],
   "source": [
    "meanLosses, stdLosses, varLosses, allLossesPSO = getResultsPSO('CNN','grid',PSO=True, num_particles=200)\n",
    "\n",
    "print(\"Média: {}\\nDesvio Padrão: {}\\nVariância: {}\".format(meanLosses,stdLosses,varLosses))"
   ]
  },
  {
   "cell_type": "code",
   "execution_count": 97,
   "metadata": {},
   "outputs": [
    {
     "name": "stdout",
     "output_type": "stream",
     "text": [
      "Média: 0.11046197246760128\n",
      "Desvio Padrão: 0.1601060730336339\n",
      "Variância: 0.02563395462225131\n"
     ]
    }
   ],
   "source": [
    "meanLosses, stdLosses, varLosses, allLossesPSO = getResultsPSO('CNN','random',PSO=True, num_particles=200)\n",
    "\n",
    "print(\"Média: {}\\nDesvio Padrão: {}\\nVariância: {}\".format(meanLosses,stdLosses,varLosses))"
   ]
  },
  {
   "cell_type": "code",
   "execution_count": 98,
   "metadata": {},
   "outputs": [
    {
     "name": "stdout",
     "output_type": "stream",
     "text": [
      "Média: 0.1577454166486859\n",
      "Desvio Padrão: 0.20696093800839926\n",
      "Variância: 0.04283282986131648\n"
     ]
    }
   ],
   "source": [
    "meanLosses, stdLosses, varLosses, allLossesPSO = getResultsPSO('CNN','LHS',PSO=True, num_particles=200)\n",
    "\n",
    "print(\"Média: {}\\nDesvio Padrão: {}\\nVariância: {}\".format(meanLosses,stdLosses,varLosses))"
   ]
  },
  {
   "cell_type": "markdown",
   "metadata": {},
   "source": [
    "MLP PSO 50"
   ]
  },
  {
   "cell_type": "code",
   "execution_count": 99,
   "metadata": {},
   "outputs": [
    {
     "name": "stdout",
     "output_type": "stream",
     "text": [
      "Média: 1.1059306416660548\n",
      "Desvio Padrão: 1.029098749942928\n",
      "Variância: 1.0590442371340973\n"
     ]
    }
   ],
   "source": [
    "meanLosses, stdLosses, varLosses, allLossesPSO = getResultsPSO('MLP','grid',PSO=True, num_particles=50)\n",
    "\n",
    "print(\"Média: {}\\nDesvio Padrão: {}\\nVariância: {}\".format(meanLosses,stdLosses,varLosses))"
   ]
  },
  {
   "cell_type": "code",
   "execution_count": 100,
   "metadata": {},
   "outputs": [
    {
     "name": "stdout",
     "output_type": "stream",
     "text": [
      "Média: 1.06364733800292\n",
      "Desvio Padrão: 1.0081126768195003\n",
      "Variância: 1.0162911691641783\n"
     ]
    }
   ],
   "source": [
    "meanLosses, stdLosses, varLosses, allLossesPSO = getResultsPSO('MLP','random',PSO=True, num_particles=50)\n",
    "\n",
    "print(\"Média: {}\\nDesvio Padrão: {}\\nVariância: {}\".format(meanLosses,stdLosses,varLosses))"
   ]
  },
  {
   "cell_type": "code",
   "execution_count": 101,
   "metadata": {},
   "outputs": [
    {
     "name": "stdout",
     "output_type": "stream",
     "text": [
      "Média: 1.0529242940247059\n",
      "Desvio Padrão: 1.0072311067336774\n",
      "Variância: 1.0145145023719486\n"
     ]
    }
   ],
   "source": [
    "meanLosses, stdLosses, varLosses, allLossesPSO = getResultsPSO('MLP','LHS',PSO=True, num_particles=50)\n",
    "\n",
    "print(\"Média: {}\\nDesvio Padrão: {}\\nVariância: {}\".format(meanLosses,stdLosses,varLosses))"
   ]
  },
  {
   "cell_type": "markdown",
   "metadata": {},
   "source": [
    "MLP PSO 100"
   ]
  },
  {
   "cell_type": "code",
   "execution_count": 102,
   "metadata": {},
   "outputs": [
    {
     "name": "stdout",
     "output_type": "stream",
     "text": [
      "Média: 0.16174013391137118\n",
      "Desvio Padrão: 0.25414506988280117\n",
      "Variância: 0.06458971654573388\n"
     ]
    }
   ],
   "source": [
    "meanLosses, stdLosses, varLosses, allLossesPSO = getResultsPSO('MLP','grid',PSO=True, num_particles=100)\n",
    "\n",
    "print(\"Média: {}\\nDesvio Padrão: {}\\nVariância: {}\".format(meanLosses,stdLosses,varLosses))"
   ]
  },
  {
   "cell_type": "code",
   "execution_count": 103,
   "metadata": {},
   "outputs": [
    {
     "name": "stdout",
     "output_type": "stream",
     "text": [
      "Média: 0.7349045965820551\n",
      "Desvio Padrão: 0.8945493675521764\n",
      "Variância: 0.8002185709879989\n"
     ]
    }
   ],
   "source": [
    "meanLosses, stdLosses, varLosses, allLossesPSO = getResultsPSO('MLP','random',PSO=True, num_particles=100)\n",
    "\n",
    "print(\"Média: {}\\nDesvio Padrão: {}\\nVariância: {}\".format(meanLosses,stdLosses,varLosses))"
   ]
  },
  {
   "cell_type": "code",
   "execution_count": 104,
   "metadata": {},
   "outputs": [
    {
     "name": "stdout",
     "output_type": "stream",
     "text": [
      "Média: 1.5595391277223825\n",
      "Desvio Padrão: 0.905822103027142\n",
      "Variância: 0.8205136823325141\n"
     ]
    }
   ],
   "source": [
    "meanLosses, stdLosses, varLosses, allLossesPSO = getResultsPSO('MLP','LHS',PSO=True, num_particles=100)\n",
    "\n",
    "print(\"Média: {}\\nDesvio Padrão: {}\\nVariância: {}\".format(meanLosses,stdLosses,varLosses))"
   ]
  },
  {
   "cell_type": "markdown",
   "metadata": {},
   "source": [
    "MLP PSO 200"
   ]
  },
  {
   "cell_type": "code",
   "execution_count": 105,
   "metadata": {},
   "outputs": [
    {
     "name": "stdout",
     "output_type": "stream",
     "text": [
      "Média: 0.2047625847160816\n",
      "Desvio Padrão: 0.31413877592843825\n",
      "Variância: 0.09868317054181754\n"
     ]
    }
   ],
   "source": [
    "meanLosses, stdLosses, varLosses, allLossesPSO = getResultsPSO('MLP','grid',PSO=True, num_particles=200)\n",
    "\n",
    "print(\"Média: {}\\nDesvio Padrão: {}\\nVariância: {}\".format(meanLosses,stdLosses,varLosses))"
   ]
  },
  {
   "cell_type": "markdown",
   "metadata": {},
   "source": [
    "MLP PSO 200"
   ]
  },
  {
   "cell_type": "code",
   "execution_count": null,
   "metadata": {},
   "outputs": [
    {
     "name": "stdout",
     "output_type": "stream",
     "text": [
      "Média: 0.2047625847160816\n",
      "Desvio Padrão: 0.31413877592843825\n",
      "Variância: 0.09868317054181754\n"
     ]
    }
   ],
   "source": [
    "meanLosses, stdLosses, varLosses, allLossesPSO = getResultsPSO('MLP','grid',PSO=True, num_particles=200)\n",
    "\n",
    "print(\"Média: {}\\nDesvio Padrão: {}\\nVariância: {}\".format(meanLosses,stdLosses,varLosses))"
   ]
  },
  {
   "cell_type": "code",
   "execution_count": 106,
   "metadata": {},
   "outputs": [
    {
     "name": "stdout",
     "output_type": "stream",
     "text": [
      "Média: 1.034823666140437\n",
      "Desvio Padrão: 0.9673357505025211\n",
      "Variância: 0.9357384542002757\n"
     ]
    }
   ],
   "source": [
    "meanLosses, stdLosses, varLosses, allLossesPSO = getResultsPSO('MLP','random',PSO=True, num_particles=200)\n",
    "\n",
    "print(\"Média: {}\\nDesvio Padrão: {}\\nVariância: {}\".format(meanLosses,stdLosses,varLosses))"
   ]
  },
  {
   "cell_type": "markdown",
   "metadata": {},
   "source": [
    "MLP PSO 400"
   ]
  },
  {
   "cell_type": "code",
   "execution_count": 5,
   "metadata": {},
   "outputs": [
    {
     "name": "stdout",
     "output_type": "stream",
     "text": [
      "Média: 0.9773764371871948\n",
      "Desvio Padrão: 0.9626747641529851\n",
      "Variância: 0.9267427015370057\n"
     ]
    }
   ],
   "source": [
    "meanLosses, stdLosses, varLosses, allLossesPSO = getResultsPSO('MLP','grid',PSO=True, num_particles=400)\n",
    "\n",
    "print(\"Média: {}\\nDesvio Padrão: {}\\nVariância: {}\".format(meanLosses,stdLosses,varLosses))"
   ]
  },
  {
   "cell_type": "code",
   "execution_count": 7,
   "metadata": {},
   "outputs": [
    {
     "name": "stdout",
     "output_type": "stream",
     "text": [
      "Média: 0.32221409790217875\n",
      "Desvio Padrão: 0.39008443683779404\n",
      "Variância: 0.15216586786305894\n"
     ]
    }
   ],
   "source": [
    "meanLosses, stdLosses, varLosses, allLossesPSO = getResultsPSO('MLP','grid',PSO=True, num_particles=400)\n",
    "\n",
    "print(\"Média: {}\\nDesvio Padrão: {}\\nVariância: {}\".format(meanLosses,stdLosses,varLosses))"
   ]
  },
  {
   "cell_type": "code",
   "execution_count": null,
   "metadata": {},
   "outputs": [],
   "source": [
    "import seaborn as sns\n",
    "import pandas as pd\n",
    "import matplotlib.pyplot as plt\n",
    "import dataTreatment\n",
    "\n",
    "# Load the CSV file into a pandas DataFrame\n",
    "file_path = r'D:\\Projetos\\PesquisaArtigo\\TCC_Hyperparameters Optimization\\trainings\\CNN_grid\\training_1.csv'\n",
    "df = pd.read_csv(file_path)\n",
    "clean_data = dataTreatment.clean_data(df)\n",
    "\n",
    "\n",
    "sns.set_theme(style=\"dark\")\n",
    "# Create the scatterplot with density contours\n",
    "g = sns.PairGrid(clean_data)\n",
    "g.map_diag(sns.histplot)\n",
    "g.map_offdiag(sns.kdeplot, fill=True)\n",
    "\n",
    "# Show the scatterplot\n",
    "plt.show()"
   ]
  },
  {
   "cell_type": "code",
   "execution_count": null,
   "metadata": {},
   "outputs": [],
   "source": [
    "import dataTreatment\n",
    "import gaussianRegression\n",
    "\n",
    "data = pd.read_csv(r'D:\\Projetos\\PesquisaArtigo\\TCC_Hyperparameters Optimization\\trainings\\CNN_grid\\training_1.csv')\n",
    "clean_data = dataTreatment.clean_data(data)\n",
    "half_data,other_half_data = dataTreatment.divide_samplings(clean_data)\n",
    "loss_data,data_only,smallest_loss_local = dataTreatment.data_from_loss(half_data)\n",
    "\n",
    "surrogate_values = gaussianRegression.gaussianProcess(data_only,loss_data,other_half_data,smallest_loss_local)\n",
    "\n",
    "fitness_values = surrogate_values[:num_particles]\n",
    "particles_position = other_half_data[:num_particles,:-1]"
   ]
  }
 ],
 "metadata": {
  "kernelspec": {
   "display_name": "test",
   "language": "python",
   "name": "python3"
  },
  "language_info": {
   "codemirror_mode": {
    "name": "ipython",
    "version": 3
   },
   "file_extension": ".py",
   "mimetype": "text/x-python",
   "name": "python",
   "nbconvert_exporter": "python",
   "pygments_lexer": "ipython3",
   "version": "3.12.0"
  }
 },
 "nbformat": 4,
 "nbformat_minor": 2
}
