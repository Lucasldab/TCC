{
  "cells": [
    {
      "cell_type": "code",
      "execution_count": 7,
      "metadata": {
        "id": "bP3gaGecRPvC"
      },
      "outputs": [],
      "source": [
        "import numpy as np\n",
        "import matplotlib.pyplot as plt\n",
        "import matplotlib.animation as animation"
      ]
    },
    {
      "cell_type": "code",
      "execution_count": 8,
      "metadata": {
        "id": "IV31AJaumKoU"
      },
      "outputs": [],
      "source": [
        "def EI(x):\n",
        "    exponent = 5 * np.sin((x**2) / np.pi)\n",
        "    exponent = np.where(exponent >= 0, exponent, 0)\n",
        "    return np.sin(x) * (np.sin((x**2) / np.pi))**exponent"
      ]
    },
    {
      "cell_type": "code",
      "execution_count": 13,
      "metadata": {
        "id": "MxrH16SNS3oK"
      },
      "outputs": [],
      "source": [
        "class Particle:\n",
        "    def __init__(self, bounds):\n",
        "        self.position = np.random.uniform(bounds[:, 0], bounds[:, 1], bounds[:, 2], bounds[:, 3], bounds[:, 4], bounds[:, 5], bounds[:, 6], bounds[:, 7], bounds[:, 8])\n",
        "        self.velocity = np.random.uniform(0, 1, size=(bounds.shape[0],))\n",
        "        self.best_position = np.copy(self.position)\n",
        "        self.best_score = damavandi(self.position)"
      ]
    },
    {
      "cell_type": "code",
      "execution_count": 14,
      "metadata": {
        "id": "zykKpTabUvdm"
      },
      "outputs": [],
      "source": [
        "class PSO:\n",
        "    def __init__(self, n_particles, bounds, iterations, c1=2.05, c2=2.05):\n",
        "        self.n_particles = n_particles\n",
        "        self.bounds = bounds\n",
        "        self.iterations = iterations\n",
        "        self.c1 = c1\n",
        "        self.c2 = c2\n",
        "        self.particles = [Particle(bounds) for _ in range(n_particles)]\n",
        "        self.gbest_score = np.inf\n",
        "        self.gbest_position = np.zeros(bounds.shape[0])\n",
        "        self.w = np.linspace(0.9, 0.1, self.iterations)\n",
        "        self.best_scores = []\n",
        "        self.positions_over_time = []\n",
        "\n",
        "    def optimize(self):\n",
        "        for i in range(self.iterations):\n",
        "            positions = []\n",
        "            for particle in self.particles:\n",
        "                fitness = damavandi(particle.position)\n",
        "\n",
        "                if np.all(fitness < particle.best_score):\n",
        "                    particle.best_score = fitness\n",
        "                    particle.best_position = np.copy(particle.position)\n",
        "\n",
        "\n",
        "                if np.any(fitness < self.gbest_score):\n",
        "                    self.gbest_score = fitness\n",
        "                    self.gbest_position = np.copy(particle.position)\n",
        "\n",
        "\n",
        "                r1 = np.random.random()\n",
        "                r2 = np.random.random()\n",
        "\n",
        "                cognitive = self.c1 * r1 * (particle.best_position - particle.position)\n",
        "                social = self.c2 * r2 * (self.gbest_position - particle.position)\n",
        "\n",
        "                particle.velocity = self.w[i] * particle.velocity + cognitive + social\n",
        "                particle.position += particle.velocity\n",
        "\n",
        "                particle.position = np.clip(particle.position, self.bounds[:, 0], self.bounds[:, 1])\n",
        "                positions.append(particle.position)\n",
        "\n",
        "            self.positions_over_time.append(positions)\n",
        "            self.best_scores.append(self.gbest_score)\n",
        "\n",
        "        return self.gbest_position, self.gbest_score\n",
        "\n",
        "    def animate(self):\n",
        "        fig, ax = plt.subplots()\n",
        "\n",
        "        dim1, dim2 = np.random.choice(range(self.bounds.shape[0]), size=2, replace=False)\n",
        "\n",
        "        def update(num):\n",
        "            ax.clear()\n",
        "            ax.set_title('Iteration ' + str(num))\n",
        "            ax.set_xlim([self.bounds[dim1, 0], self.bounds[dim1, 1]])\n",
        "            ax.set_ylim([self.bounds[dim2, 0], self.bounds[dim2, 1]])\n",
        "            positions = self.positions_over_time[num]\n",
        "            for position in positions:\n",
        "                ax.scatter(position[dim1], position[dim2])\n",
        "\n",
        "        ani = animation.FuncAnimation(fig, update, frames=self.iterations, repeat=False)\n",
        "        writervideo = animation.FFMpegWriter(fps=2)\n",
        "        ani.save('./pso.mp4', writer=writervideo)\n",
        "        plt.show()"
      ]
    },
    {
      "cell_type": "code",
      "execution_count": null,
      "metadata": {},
      "outputs": [],
      "source": []
    },
    {
      "cell_type": "code",
      "execution_count": 15,
      "metadata": {
        "id": "BoHs3C3BhCic"
      },
      "outputs": [],
      "source": [
        "def main():\n",
        "    bounds = np.array([[16., 32.], [1., 3.], [16., 32.],[1., 3.], [32., 64.], [16., 32.],[1., 9.], [0.0001, 0.01], [32., 128.]])\n",
        "    pso = PSO(n_particles=30, bounds=bounds, iterations=30)\n",
        "    best_position, best_score = pso.optimize()\n",
        "    print(f\"Best position: {best_position}, Best score: {best_score}\")\n",
        "    pso.animate()"
      ]
    },
    {
      "cell_type": "code",
      "execution_count": 16,
      "metadata": {
        "colab": {
          "base_uri": "https://localhost:8080/",
          "height": 311
        },
        "id": "e8QNT_J9lKqD",
        "outputId": "1c173e33-a661-43f0-e4af-c1f70fe41327"
      },
      "outputs": [
        {
          "name": "stdout",
          "output_type": "stream",
          "text": [
            "3\n",
            "3\n",
            "3\n",
            "3\n",
            "3\n",
            "3\n",
            "3\n",
            "3\n",
            "3\n",
            "3\n",
            "3\n",
            "3\n",
            "3\n",
            "3\n",
            "3\n",
            "3\n",
            "3\n",
            "3\n",
            "3\n",
            "3\n",
            "3\n",
            "3\n",
            "3\n",
            "3\n",
            "3\n",
            "3\n",
            "3\n",
            "3\n",
            "3\n",
            "3\n",
            "Best position: [-2.2299433   4.78056702  4.13164074], Best score: [-0.79022823 -0.47341129 -0.83605236]\n"
          ]
        },
        {
          "data": {
            "image/png": "[encoded data removed]",
            "text/plain": [
              "<Figure size 640x480 with 1 Axes>"
            ]
          },
          "metadata": {},
          "output_type": "display_data"
        }
      ],
      "source": [
        "main()"
      ]
    }
  ],
  "metadata": {
    "colab": {
      "provenance": [],
      "toc_visible": true
    },
    "kernelspec": {
      "display_name": "Python 3",
      "name": "python3"
    },
    "language_info": {
      "codemirror_mode": {
        "name": "ipython",
        "version": 3
      },
      "file_extension": ".py",
      "mimetype": "text/x-python",
      "name": "python",
      "nbconvert_exporter": "python",
      "pygments_lexer": "ipython3",
      "version": "3.9.13"
    }
  },
  "nbformat": 4,
  "nbformat_minor": 0
}
