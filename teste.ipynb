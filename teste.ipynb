{
 "cells": [
  {
   "cell_type": "code",
   "execution_count": 2,
   "metadata": {},
   "outputs": [
    {
     "name": "stdout",
     "output_type": "stream",
     "text": [
      "Predictive Mean: [1.85264878]\n",
      "Predictive Variance: [[0.78759397]]\n",
      "Standard Deviation: [[0.88746491]]\n"
     ]
    }
   ],
   "source": [
    "import numpy as np\n",
    "from sklearn.gaussian_process import GaussianProcessRegressor\n",
    "from sklearn.gaussian_process.kernels import RBF\n",
    "\n",
    "# Create synthetic training data\n",
    "X_train = np.array([1, 2, 3, 4, 5]).reshape(-1, 1)\n",
    "y_train = np.array([2, 3, 4, 3, 2])\n",
    "\n",
    "# Define a kernel (you can choose a suitable kernel for your problem)\n",
    "kernel = 1.0 * RBF(length_scale=1.0)\n",
    "\n",
    "# Create and fit a Gaussian Process model\n",
    "model = GaussianProcessRegressor(kernel=kernel, n_restarts_optimizer=10)\n",
    "model.fit(X_train, y_train)\n",
    "\n",
    "# Define a new point for prediction\n",
    "X_new = np.array([[6]])  # Replace with the point of interest\n",
    "\n",
    "# Make a prediction and obtain predictive mean and variance\n",
    "mean, variance = model.predict(X_new, return_cov=True)\n",
    "\n",
    "# Calculate the standard deviation\n",
    "std_deviation = np.sqrt(variance)\n",
    "\n",
    "print(\"Predictive Mean:\", mean)\n",
    "print(\"Predictive Variance:\", variance)\n",
    "print(\"Standard Deviation:\", std_deviation)"
   ]
  }
 ],
 "metadata": {
  "kernelspec": {
   "display_name": "test",
   "language": "python",
   "name": "python3"
  },
  "language_info": {
   "codemirror_mode": {
    "name": "ipython",
    "version": 3
   },
   "file_extension": ".py",
   "mimetype": "text/x-python",
   "name": "python",
   "nbconvert_exporter": "python",
   "pygments_lexer": "ipython3",
   "version": "3.9.13"
  },
  "orig_nbformat": 4
 },
 "nbformat": 4,
 "nbformat_minor": 2
}
