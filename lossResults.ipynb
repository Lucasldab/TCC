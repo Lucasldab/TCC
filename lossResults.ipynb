{
 "cells": [
  {
   "cell_type": "code",
   "execution_count": 79,
   "metadata": {},
   "outputs": [],
   "source": [
    "import os\n",
    "import csv\n",
    "import pandas as pd\n",
    "import numpy as np"
   ]
  },
  {
   "cell_type": "code",
   "execution_count": 80,
   "metadata": {},
   "outputs": [],
   "source": [
    "samplingMethod='LHS'\n",
    "modelMLP='CNN'\n",
    "totalLoss = []"
   ]
  },
  {
   "cell_type": "code",
   "execution_count": 88,
   "metadata": {},
   "outputs": [
    {
     "ename": "AttributeError",
     "evalue": "'numpy.ndarray' object has no attribute 'values'",
     "output_type": "error",
     "traceback": [
      "\u001b[1;31m---------------------------------------------------------------------------\u001b[0m",
      "\u001b[1;31mAttributeError\u001b[0m                            Traceback (most recent call last)",
      "\u001b[1;32md:\\Projetos\\PesquisaArtigo\\TCC_Hyperparameters Optimization\\lossResults.ipynb Cell 3\u001b[0m line \u001b[0;36m5\n\u001b[0;32m      <a href='vscode-notebook-cell:/d%3A/Projetos/PesquisaArtigo/TCC_Hyperparameters%20Optimization/lossResults.ipynb#X34sZmlsZQ%3D%3D?line=2'>3</a>\u001b[0m dataset \u001b[39m=\u001b[39m pd\u001b[39m.\u001b[39mread_csv(trainingFile)\n\u001b[0;32m      <a href='vscode-notebook-cell:/d%3A/Projetos/PesquisaArtigo/TCC_Hyperparameters%20Optimization/lossResults.ipynb#X34sZmlsZQ%3D%3D?line=3'>4</a>\u001b[0m loss \u001b[39m=\u001b[39m dataset[\u001b[39m'\u001b[39m\u001b[39mLoss\u001b[39m\u001b[39m'\u001b[39m]\u001b[39m.\u001b[39mvalues\n\u001b[1;32m----> <a href='vscode-notebook-cell:/d%3A/Projetos/PesquisaArtigo/TCC_Hyperparameters%20Optimization/lossResults.ipynb#X34sZmlsZQ%3D%3D?line=4'>5</a>\u001b[0m totalLoss\u001b[39m.\u001b[39mappend(loss\u001b[39m.\u001b[39;49mvalues)\n",
      "\u001b[1;31mAttributeError\u001b[0m: 'numpy.ndarray' object has no attribute 'values'"
     ]
    }
   ],
   "source": [
    "for datasetNumber in range(1,21):\n",
    "    trainingFile = 'trainings/'+modelMLP+'_'+samplingMethod+'/training_'+str(datasetNumber)+'.csv'\n",
    "    dataset = pd.read_csv(trainingFile)\n",
    "    loss = dataset['Loss'].values\n",
    "    totalLoss.append(loss.values)"
   ]
  },
  {
   "cell_type": "code",
   "execution_count": 90,
   "metadata": {},
   "outputs": [],
   "source": [
    "alllosses = np.concatenate(totalLoss)"
   ]
  },
  {
   "cell_type": "code",
   "execution_count": 92,
   "metadata": {},
   "outputs": [
    {
     "name": "stdout",
     "output_type": "stream",
     "text": [
      "0.42118925944585356\n"
     ]
    }
   ],
   "source": [
    "print(np.mean(alllosses))\n",
    "print(np.std(alllosses))"
   ]
  },
  {
   "cell_type": "code",
   "execution_count": 46,
   "metadata": {},
   "outputs": [],
   "source": [
    "def create(file_path, trainings):\n",
    "    if not os.path.exists(file_path):\n",
    "        with open(file_path, 'w', newline='') as file:\n",
    "            writer = csv.writer(file)\n",
    "            writer.writerow([\"Name\", \"Convoluted_Layers1\", \"Convoluted_Filters1\", \"Convoluted_Layers2\", \"Convoluted_Filters2\", \"Hidden_Layer1\", \"Hidden_Layer2\", \"Learning_Rate\", \"Batch_Size\", \"Loss\"])\n",
    "            for i in range(trainings):\n",
    "                writer.writerow(['Dummy'])\n",
    "            file.close()"
   ]
  },
  {
   "cell_type": "code",
   "execution_count": null,
   "metadata": {},
   "outputs": [],
   "source": [
    "allLoss = []\n",
    "eachMean = []\n",
    "eachStd = []"
   ]
  },
  {
   "cell_type": "code",
   "execution_count": null,
   "metadata": {},
   "outputs": [],
   "source": [
    "for datasetNumber in range(1,21):\n",
    "    Loss = []\n",
    "    trainingFile = 'trainings/'+modelMLP+'_'+samplingMethod+'/training_'+str(datasetNumber)+'.csv'\n",
    "    data = pd.read_csv(trainingFile)\n",
    "    individualLossFile = 'losses/'+modelMLP+'_'+samplingMetho+'/training_'+str(datasetNumber)+'.csv'\n",
    "    Loss.append(data['Loss'])\n",
    "    allLoss.append(data['Loss'])\n",
    "    eachMean.append(np.mean(Loss))\n",
    "    eachStd.append(np.std(Loss))\n",
    "        # Create a CSV file if it doesn't exist to store the results\n",
    "    if not os.path.exists(individualLossFile):\n",
    "        with open(individualLossFile, 'w', newline='') as file:\n",
    "            writer = csv.writer(file)\n",
    "            writer.writerow([\"Loss\"])\n",
    "            file.close()\n",
    "\n",
    "    with open(individualLossFile, 'w', newline='') as csvfile:\n",
    "        writer = csv.writer(csvfile)\n",
    "        for element in Loss:\n",
    "            writer.writerow([element])\n",
    "        file.close()"
   ]
  },
  {
   "cell_type": "code",
   "execution_count": null,
   "metadata": {},
   "outputs": [],
   "source": [
    "allLossFile = 'losses/'+modelMLP+'_'+samplingMetho+'/training_'+str(datasetNumber)+'.csv'\n",
    "allMean =\n",
    "allStd =\n",
    "# Create a CSV file if it doesn't exist to store the results\n",
    "if not os.path.exists(trainingFile):\n",
    "    with open(trainingFile, 'w', newline='') as file:\n",
    "        writer = csv.writer(file)\n",
    "        writer.writerow([\"Loss\"])\n",
    "        file.close()\n",
    "\n",
    "with open(trainingFile, 'r', newline='') as file:\n",
    "    csv_reader = csv.reader(file)\n",
    "    line = sum(1 for row in csv_reader)\n",
    "    file.close()"
   ]
  },
  {
   "cell_type": "code",
   "execution_count": null,
   "metadata": {},
   "outputs": [],
   "source": [
    "    # Create a CSV file if it doesn't exist to store the results\n",
    "    if not os.path.exists(trainingFile):\n",
    "        with open(trainingFile, 'w', newline='') as file:\n",
    "               writer = csv.writer(file)\n",
    "               writer.writerow([\"Optimizer\",\"Hidden_Layer1\", \"Hidden_Layer2\", \"Learning_Rate\",\"Batch_Size\",\"Loss\"])\n",
    "               file.close()\n",
    "\n",
    "    with open(trainingFile, 'r', newline='') as file:\n",
    "        csv_reader = csv.reader(file)\n",
    "        line = sum(1 for row in csv_reader)\n",
    "        file.close()"
   ]
  },
  {
   "cell_type": "code",
   "execution_count": null,
   "metadata": {},
   "outputs": [],
   "source": []
  }
 ],
 "metadata": {
  "kernelspec": {
   "display_name": "test",
   "language": "python",
   "name": "python3"
  },
  "language_info": {
   "codemirror_mode": {
    "name": "ipython",
    "version": 3
   },
   "file_extension": ".py",
   "mimetype": "text/x-python",
   "name": "python",
   "nbconvert_exporter": "python",
   "pygments_lexer": "ipython3",
   "version": "3.12.0"
  }
 },
 "nbformat": 4,
 "nbformat_minor": 2
}
