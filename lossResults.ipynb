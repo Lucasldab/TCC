{
 "cells": [
  {
   "cell_type": "code",
   "execution_count": 1,
   "metadata": {},
   "outputs": [
    {
     "ename": "",
     "evalue": "",
     "output_type": "error",
     "traceback": [
      "\u001b[1;31mThe Kernel crashed while executing code in the the current cell or a previous cell. Please review the code in the cell(s) to identify a possible cause of the failure. Click <a href='https://aka.ms/vscodeJupyterKernelCrash'>here</a> for more info. View Jupyter <a href='command:jupyter.viewOutput'>log</a> for further details."
     ]
    }
   ],
   "source": [
    "import os\n",
    "import csv\n",
    "import pandas as pd\n",
    "import numpy as np"
   ]
  },
  {
   "cell_type": "code",
   "execution_count": null,
   "metadata": {},
   "outputs": [],
   "source": [
    "allLoss = []\n",
    "eachMean = []\n",
    "eachStd = []"
   ]
  },
  {
   "cell_type": "code",
   "execution_count": null,
   "metadata": {},
   "outputs": [],
   "source": [
    "samplingMethod='LHS'\n",
    "modelMLP='CNN'"
   ]
  },
  {
   "cell_type": "code",
   "execution_count": null,
   "metadata": {},
   "outputs": [],
   "source": [
    "for datasetNumber in range(1,21):\n",
    "    Loss = []\n",
    "    trainingFile = 'trainings/'+modelMLP+'_'+samplingMethod+'/training_'+str(datasetNumber)+'.csv'\n",
    "    data = pd.read_csv(trainingFile)\n",
    "    individualLossFile = 'losses/'+modelMLP+'_'+samplingMetho+'/training_'+str(datasetNumber)+'.csv'\n",
    "    Loss.append(data['Loss'])\n",
    "    allLoss.append(data['Loss'])\n",
    "    eachMean.append(np.mean(Loss))\n",
    "    eachStd.append(np.std(Loss))\n",
    "        # Create a CSV file if it doesn't exist to store the results\n",
    "    if not os.path.exists(individualLossFile):\n",
    "        with open(individualLossFile, 'w', newline='') as file:\n",
    "            writer = csv.writer(file)\n",
    "            writer.writerow([\"Loss\"])\n",
    "            file.close()\n",
    "\n",
    "    with open(individualLossFile, 'w', newline='') as csvfile:\n",
    "        writer = csv.writer(csvfile)\n",
    "        for element in Loss:\n",
    "            writer.writerow([element])\n",
    "        file.close()"
   ]
  },
  {
   "cell_type": "code",
   "execution_count": null,
   "metadata": {},
   "outputs": [],
   "source": [
    "allLossFile = 'losses/'+modelMLP+'_'+samplingMetho+'/training_'+str(datasetNumber)+'.csv'\n",
    "allMean =\n",
    "allStd =\n",
    "# Create a CSV file if it doesn't exist to store the results\n",
    "if not os.path.exists(trainingFile):\n",
    "    with open(trainingFile, 'w', newline='') as file:\n",
    "        writer = csv.writer(file)\n",
    "        writer.writerow([\"Loss\"])\n",
    "        file.close()\n",
    "\n",
    "with open(trainingFile, 'r', newline='') as file:\n",
    "    csv_reader = csv.reader(file)\n",
    "    line = sum(1 for row in csv_reader)\n",
    "    file.close()"
   ]
  },
  {
   "cell_type": "code",
   "execution_count": null,
   "metadata": {},
   "outputs": [],
   "source": [
    "    # Create a CSV file if it doesn't exist to store the results\n",
    "    if not os.path.exists(trainingFile):\n",
    "        with open(trainingFile, 'w', newline='') as file:\n",
    "               writer = csv.writer(file)\n",
    "               writer.writerow([\"Optimizer\",\"Hidden_Layer1\", \"Hidden_Layer2\", \"Learning_Rate\",\"Batch_Size\",\"Loss\"])\n",
    "               file.close()\n",
    "\n",
    "    with open(trainingFile, 'r', newline='') as file:\n",
    "        csv_reader = csv.reader(file)\n",
    "        line = sum(1 for row in csv_reader)\n",
    "        file.close()"
   ]
  }
 ],
 "metadata": {
  "kernelspec": {
   "display_name": "test",
   "language": "python",
   "name": "python3"
  },
  "language_info": {
   "codemirror_mode": {
    "name": "ipython",
    "version": 3
   },
   "file_extension": ".py",
   "mimetype": "text/x-python",
   "name": "python",
   "nbconvert_exporter": "python",
   "pygments_lexer": "ipython3",
   "version": "3.12.0"
  }
 },
 "nbformat": 4,
 "nbformat_minor": 2
}
