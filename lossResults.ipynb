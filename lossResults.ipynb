{
 "cells": [
  {
   "cell_type": "code",
   "execution_count": 2,
   "metadata": {},
   "outputs": [],
   "source": [
    "import os\n",
    "import csv\n",
    "import pandas as pd\n",
    "import numpy as np"
   ]
  },
  {
   "cell_type": "code",
   "execution_count": 51,
   "metadata": {},
   "outputs": [],
   "source": [
    "def getResults(modelMLP,samplingMethod,PSO=False,num_particles=False):\n",
    "    alllosses = []\n",
    "    #if PSO == False:\n",
    "    #    Files\n",
    "    for datasetNumber in range(1,21):\n",
    "        if modelMLP == 'MLP':\n",
    "            if PSO == False:\n",
    "                trainingFile = 'trainings/Fully_Connected_'+samplingMethod+'/training_'+str(datasetNumber)+'.csv'\n",
    "            else:\n",
    "                trainingFile = 'trainings/Fully_Connected_'+samplingMethod+'/GRPSO_'+str(num_particles)+'.csv'\n",
    "        elif modelMLP == 'CNN':\n",
    "            if PSO == False:\n",
    "                trainingFile = 'trainings/'+modelMLP+'_'+samplingMethod+'/training_'+str(datasetNumber)+'.csv'\n",
    "            else:\n",
    "                trainingFile = 'trainings/'+modelMLP+'_'+samplingMethod+'/GRPSO_'+str(num_particles)+'.csv'\n",
    "        dataset = pd.read_csv(trainingFile)\n",
    "        onlyLoss = dt['Loss']\n",
    "        alllosses.append(onlyLoss[np.argmin(onlyLoss)])\n",
    "        #print(alllosses)\n",
    "    meanLosses = np.mean(alllosses)\n",
    "    stdLosses = np.std(alllosses)\n",
    "    varLosses = np.var(alllosses)\n",
    "    return meanLosses, stdLosses, varLosses, alllosses"
   ]
  },
  {
   "cell_type": "markdown",
   "metadata": {},
   "source": [
    "CNN LHS"
   ]
  },
  {
   "cell_type": "code",
   "execution_count": 52,
   "metadata": {},
   "outputs": [
    {
     "name": "stdout",
     "output_type": "stream",
     "text": [
      "Média: 0.027836581692099495\n",
      "Desvio Padrão: 3.469446951953614e-18\n",
      "Variância: 1.2037062152420224e-35\n"
     ]
    }
   ],
   "source": [
    "meanLosses, stdLosses, varLosses, allLossesLHS = getResults('CNN','LHS')\n",
    "\n",
    "print(\"Média: {}\\nDesvio Padrão: {}\\nVariância: {}\".format(meanLosses,stdLosses,varLosses))"
   ]
  },
  {
   "cell_type": "markdown",
   "metadata": {},
   "source": [
    "MLP LHS"
   ]
  },
  {
   "cell_type": "code",
   "execution_count": 53,
   "metadata": {},
   "outputs": [
    {
     "name": "stdout",
     "output_type": "stream",
     "text": [
      "Média: 0.027836581692099495\n",
      "Desvio Padrão: 3.469446951953614e-18\n",
      "Variância: 1.2037062152420224e-35\n"
     ]
    }
   ],
   "source": [
    "meanLosses, stdLosses, varLosses, allLossesLHS = getResults('MLP','LHS')\n",
    "\n",
    "print(\"Média: {}\\nDesvio Padrão: {}\\nVariância: {}\".format(meanLosses,stdLosses,varLosses))"
   ]
  },
  {
   "cell_type": "markdown",
   "metadata": {},
   "source": [
    "CNN Random"
   ]
  },
  {
   "cell_type": "code",
   "execution_count": 54,
   "metadata": {},
   "outputs": [
    {
     "name": "stdout",
     "output_type": "stream",
     "text": [
      "Média: 0.027836581692099495\n",
      "Desvio Padrão: 3.469446951953614e-18\n",
      "Variância: 1.2037062152420224e-35\n"
     ]
    }
   ],
   "source": [
    "meanLosses, stdLosses, varLosses, allLossesRandom = getResults('CNN','random')\n",
    "\n",
    "print(\"Média: {}\\nDesvio Padrão: {}\\nVariância: {}\".format(meanLosses,stdLosses,varLosses))"
   ]
  },
  {
   "cell_type": "markdown",
   "metadata": {},
   "source": [
    "MLP Random"
   ]
  },
  {
   "cell_type": "code",
   "execution_count": null,
   "metadata": {},
   "outputs": [],
   "source": [
    "meanLosses, stdLosses, varLosses, allLossesRandom = getResults('MLP','random')\n",
    "\n",
    "print(\"Média: {}\\nDesvio Padrão: {}\\nVariância: {}\".format(meanLosses,stdLosses,varLosses))"
   ]
  },
  {
   "cell_type": "markdown",
   "metadata": {},
   "source": [
    "CNN Grid"
   ]
  },
  {
   "cell_type": "code",
   "execution_count": 7,
   "metadata": {},
   "outputs": [
    {
     "name": "stdout",
     "output_type": "stream",
     "text": [
      "Média: 0.4280711688399315\n",
      "Desvio Padrão: 0.6149266534786038\n",
      "Variância: 0.3781347891583948\n"
     ]
    }
   ],
   "source": [
    "meanLosses, stdLosses, varLosses, allLossesGrid = getResults('CNN','grid')\n",
    "\n",
    "print(\"Média: {}\\nDesvio Padrão: {}\\nVariância: {}\".format(meanLosses,stdLosses,varLosses))"
   ]
  },
  {
   "cell_type": "markdown",
   "metadata": {},
   "source": [
    "MLP Grid"
   ]
  },
  {
   "cell_type": "code",
   "execution_count": 55,
   "metadata": {},
   "outputs": [
    {
     "name": "stdout",
     "output_type": "stream",
     "text": [
      "Média: 0.027836581692099495\n",
      "Desvio Padrão: 3.469446951953614e-18\n",
      "Variância: 1.2037062152420224e-35\n"
     ]
    }
   ],
   "source": [
    "meanLosses, stdLosses, varLosses, allLossesGrid = getResults('MLP','grid')\n",
    "\n",
    "print(\"Média: {}\\nDesvio Padrão: {}\\nVariância: {}\".format(meanLosses,stdLosses,varLosses))"
   ]
  },
  {
   "cell_type": "markdown",
   "metadata": {},
   "source": [
    "CNN TPE"
   ]
  },
  {
   "cell_type": "code",
   "execution_count": null,
   "metadata": {},
   "outputs": [],
   "source": [
    "meanLosses, stdLosses, varLosses, allLossesTPE = getResults('CNN','TPE')\n",
    "\n",
    "print(\"Média: {}\\nDesvio Padrão: {}\\nVariância: {}\".format(meanLosses,stdLosses,varLosses))"
   ]
  },
  {
   "cell_type": "markdown",
   "metadata": {},
   "source": [
    "MLP TPE"
   ]
  },
  {
   "cell_type": "code",
   "execution_count": null,
   "metadata": {},
   "outputs": [],
   "source": [
    "meanLosses, stdLosses, varLosses, allLossesTPE = getResults('MLP','TPE')\n",
    "\n",
    "print(\"Média: {}\\nDesvio Padrão: {}\\nVariância: {}\".format(meanLosses,stdLosses,varLosses))"
   ]
  },
  {
   "cell_type": "markdown",
   "metadata": {},
   "source": [
    "CNN PSO 50"
   ]
  },
  {
   "cell_type": "code",
   "execution_count": null,
   "metadata": {},
   "outputs": [],
   "source": [
    "meanLosses, stdLosses, varLosses, allLossesPSO = getResults('CNN','grid',PSO=True, num_particles=50)\n",
    "\n",
    "print(\"Média: {}\\nDesvio Padrão: {}\\nVariância: {}\".format(meanLosses,stdLosses,varLosses))"
   ]
  },
  {
   "cell_type": "code",
   "execution_count": null,
   "metadata": {},
   "outputs": [],
   "source": [
    "meanLosses, stdLosses, varLosses, allLossesPSO = getResults('CNN','random',PSO=True, num_particles=50)\n",
    "\n",
    "print(\"Média: {}\\nDesvio Padrão: {}\\nVariância: {}\".format(meanLosses,stdLosses,varLosses))"
   ]
  },
  {
   "cell_type": "code",
   "execution_count": null,
   "metadata": {},
   "outputs": [],
   "source": [
    "meanLosses, stdLosses, varLosses, allLossesPSO = getResults('CNN','LHS',PSO=True, num_particles=50)\n",
    "\n",
    "print(\"Média: {}\\nDesvio Padrão: {}\\nVariância: {}\".format(meanLosses,stdLosses,varLosses))"
   ]
  },
  {
   "cell_type": "markdown",
   "metadata": {},
   "source": [
    "CNN PSO 100"
   ]
  },
  {
   "cell_type": "code",
   "execution_count": null,
   "metadata": {},
   "outputs": [],
   "source": [
    "meanLosses, stdLosses, varLosses, allLossesPSO = getResults('CNN','grid',PSO=True, num_particles=100)\n",
    "\n",
    "print(\"Média: {}\\nDesvio Padrão: {}\\nVariância: {}\".format(meanLosses,stdLosses,varLosses))"
   ]
  },
  {
   "cell_type": "code",
   "execution_count": null,
   "metadata": {},
   "outputs": [],
   "source": [
    "meanLosses, stdLosses, varLosses, allLossesPSO = getResults('CNN','random',PSO=True, num_particles=100)\n",
    "\n",
    "print(\"Média: {}\\nDesvio Padrão: {}\\nVariância: {}\".format(meanLosses,stdLosses,varLosses))"
   ]
  },
  {
   "cell_type": "code",
   "execution_count": null,
   "metadata": {},
   "outputs": [],
   "source": [
    "meanLosses, stdLosses, varLosses, allLossesPSO = getResults('CNN','LHS',PSO=True, num_particles=100)\n",
    "\n",
    "print(\"Média: {}\\nDesvio Padrão: {}\\nVariância: {}\".format(meanLosses,stdLosses,varLosses))"
   ]
  },
  {
   "cell_type": "markdown",
   "metadata": {},
   "source": [
    "CNN PSO 200"
   ]
  },
  {
   "cell_type": "code",
   "execution_count": null,
   "metadata": {},
   "outputs": [],
   "source": [
    "meanLosses, stdLosses, varLosses, allLossesPSO = getResults('CNN','grid',PSO=True, num_particles=200)\n",
    "\n",
    "print(\"Média: {}\\nDesvio Padrão: {}\\nVariância: {}\".format(meanLosses,stdLosses,varLosses))"
   ]
  },
  {
   "cell_type": "code",
   "execution_count": null,
   "metadata": {},
   "outputs": [],
   "source": [
    "meanLosses, stdLosses, varLosses, allLossesPSO = getResults('CNN','random',PSO=True, num_particles=200)\n",
    "\n",
    "print(\"Média: {}\\nDesvio Padrão: {}\\nVariância: {}\".format(meanLosses,stdLosses,varLosses))"
   ]
  },
  {
   "cell_type": "code",
   "execution_count": null,
   "metadata": {},
   "outputs": [],
   "source": [
    "meanLosses, stdLosses, varLosses, allLossesPSO = getResults('CNN','LHS',PSO=True, num_particles=200)\n",
    "\n",
    "print(\"Média: {}\\nDesvio Padrão: {}\\nVariância: {}\".format(meanLosses,stdLosses,varLosses))"
   ]
  },
  {
   "cell_type": "markdown",
   "metadata": {},
   "source": [
    "MLP PSO 50"
   ]
  },
  {
   "cell_type": "code",
   "execution_count": null,
   "metadata": {},
   "outputs": [],
   "source": [
    "meanLosses, stdLosses, varLosses, allLossesPSO = getResults('MLP','grid',PSO=True, num_particles=50)\n",
    "\n",
    "print(\"Média: {}\\nDesvio Padrão: {}\\nVariância: {}\".format(meanLosses,stdLosses,varLosses))"
   ]
  },
  {
   "cell_type": "code",
   "execution_count": null,
   "metadata": {},
   "outputs": [],
   "source": [
    "meanLosses, stdLosses, varLosses, allLossesPSO = getResults('MLP','random',PSO=True, num_particles=50)\n",
    "\n",
    "print(\"Média: {}\\nDesvio Padrão: {}\\nVariância: {}\".format(meanLosses,stdLosses,varLosses))"
   ]
  },
  {
   "cell_type": "code",
   "execution_count": null,
   "metadata": {},
   "outputs": [],
   "source": [
    "meanLosses, stdLosses, varLosses, allLossesPSO = getResults('MLP','LHS',PSO=True, num_particles=50)\n",
    "\n",
    "print(\"Média: {}\\nDesvio Padrão: {}\\nVariância: {}\".format(meanLosses,stdLosses,varLosses))"
   ]
  },
  {
   "cell_type": "markdown",
   "metadata": {},
   "source": [
    "MLP PSO 100"
   ]
  },
  {
   "cell_type": "code",
   "execution_count": null,
   "metadata": {},
   "outputs": [],
   "source": [
    "meanLosses, stdLosses, varLosses, allLossesPSO = getResults('MLP','grid',PSO=True, num_particles=100)\n",
    "\n",
    "print(\"Média: {}\\nDesvio Padrão: {}\\nVariância: {}\".format(meanLosses,stdLosses,varLosses))"
   ]
  },
  {
   "cell_type": "code",
   "execution_count": null,
   "metadata": {},
   "outputs": [],
   "source": [
    "meanLosses, stdLosses, varLosses, allLossesPSO = getResults('MLP','random',PSO=True, num_particles=100)\n",
    "\n",
    "print(\"Média: {}\\nDesvio Padrão: {}\\nVariância: {}\".format(meanLosses,stdLosses,varLosses))"
   ]
  },
  {
   "cell_type": "code",
   "execution_count": null,
   "metadata": {},
   "outputs": [],
   "source": [
    "meanLosses, stdLosses, varLosses, allLossesPSO = getResults('MLP','LHS',PSO=True, num_particles=100)\n",
    "\n",
    "print(\"Média: {}\\nDesvio Padrão: {}\\nVariância: {}\".format(meanLosses,stdLosses,varLosses))"
   ]
  },
  {
   "cell_type": "markdown",
   "metadata": {},
   "source": [
    "MLP PSO 200"
   ]
  },
  {
   "cell_type": "code",
   "execution_count": null,
   "metadata": {},
   "outputs": [],
   "source": [
    "meanLosses, stdLosses, varLosses, allLossesPSO = getResults('MLP','grid',PSO=True, num_particles=200)\n",
    "\n",
    "print(\"Média: {}\\nDesvio Padrão: {}\\nVariância: {}\".format(meanLosses,stdLosses,varLosses))"
   ]
  },
  {
   "cell_type": "code",
   "execution_count": null,
   "metadata": {},
   "outputs": [],
   "source": [
    "meanLosses, stdLosses, varLosses, allLossesPSO = getResults('MLP','random',PSO=True, num_particles=200)\n",
    "\n",
    "print(\"Média: {}\\nDesvio Padrão: {}\\nVariância: {}\".format(meanLosses,stdLosses,varLosses))"
   ]
  },
  {
   "cell_type": "code",
   "execution_count": null,
   "metadata": {},
   "outputs": [],
   "source": [
    "meanLosses, stdLosses, varLosses, allLossesPSO = getResults('MLP','LHS',PSO=True, num_particles=200)\n",
    "\n",
    "print(\"Média: {}\\nDesvio Padrão: {}\\nVariância: {}\".format(meanLosses,stdLosses,varLosses))"
   ]
  }
 ],
 "metadata": {
  "kernelspec": {
   "display_name": "test",
   "language": "python",
   "name": "python3"
  },
  "language_info": {
   "codemirror_mode": {
    "name": "ipython",
    "version": 3
   },
   "file_extension": ".py",
   "mimetype": "text/x-python",
   "name": "python",
   "nbconvert_exporter": "python",
   "pygments_lexer": "ipython3",
   "version": "3.12.0"
  }
 },
 "nbformat": 4,
 "nbformat_minor": 2
}
