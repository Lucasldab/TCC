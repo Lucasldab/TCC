{
 "cells": [
  {
   "cell_type": "code",
   "execution_count": 1,
   "metadata": {},
   "outputs": [],
   "source": [
    "import numpy as np"
   ]
  },
  {
   "cell_type": "code",
   "execution_count": 42,
   "metadata": {},
   "outputs": [],
   "source": [
    "def differential_evolution(objective_func, bounds, population_size=50, max_generations=100, F=0.5, CR=0.7):\n",
    "    num_dimensions = len(bounds)\n",
    "    population = np.random.uniform(bounds[:, 0], bounds[:, 1], size=(population_size, num_dimensions))\n",
    "    best_solution = None\n",
    "    best_fitness = np.inf\n",
    "\n",
    "    for generation in range(max_generations):\n",
    "        for i in range(population_size):\n",
    "            target_vector = population[i]\n",
    "            indices = [idx for idx in range(population_size) if idx != i]\n",
    "            random_indices = np.random.choice(indices, size=3, replace=False)\n",
    "\n",
    "            mutant_vector = population[random_indices[0]] + F * (population[random_indices[1]] - population[random_indices[2]])\n",
    "            mutant_vector_before_clip = mutant_vector.copy()  # Store the value before the clip\n",
    "            mutant_vector = np.clip(mutant_vector, bounds[:, 0], bounds[:, 1])  # Clip the mutant vector\n",
    "\n",
    "            new_value = (mutant_vector_before_clip - mutant_vector) / 2  # Invert and divide by two\n",
    "            new_value_temp = [(mutant_vector_before_clip[i] - mutant_vector[i]) * (np.random.random()+0.000001) if mutant_vector_before_clip[i] > bounds[i,1] else mutant_vector_before_clip[i] for i in range(len(new_value))]\n",
    "            new_value = [(new_value_temp[i] - mutant_vector_before_clip[i]) * (np.random.random()+0.000001) if new_value_temp[i] < bounds[i,0] else new_value_temp[i] for i in range(len(new_value))]\n",
    "\n",
    "\n",
    "            trial_vector = np.where(np.random.rand(num_dimensions) < CR, new_value, target_vector)  # Use the new value in the trial vector\n",
    "\n",
    "            fitness = objective_func(trial_vector)\n",
    "            if fitness < best_fitness:\n",
    "                best_solution = trial_vector\n",
    "                best_fitness = fitness\n",
    "\n",
    "            population[i] = trial_vector\n",
    "\n",
    "    return best_solution, best_fitness"
   ]
  },
  {
   "cell_type": "code",
   "execution_count": null,
   "metadata": {},
   "outputs": [],
   "source": [
    "def discrete_differential_evolution(objective_func, bounds, population_size=50, max_generations=100, F=0.5, CR=0.7):\n",
    "    num_dimensions = len(bounds)\n",
    "    population = np.random.uniform(bounds[:, 0], bounds[:, 1], size=(population_size, num_dimensions))\n",
    "    best_solution = None\n",
    "    best_fitness = np.inf\n",
    "\n",
    "    for generation in range(max_generations):\n",
    "        for i in range(population_size):\n",
    "            target_vector = population[i]\n",
    "            indices = [idx for idx in range(population_size) if idx != i]\n",
    "            random_indices = np.random.choice(indices, size=3, replace=False)\n",
    "\n",
    "            mutant_vector = population[random_indices[0]] + F * (population[random_indices[1]] - population[random_indices[2]])\n",
    "            mutant_vector_before_clip = mutant_vector.copy()  # Store the value before the clip\n",
    "            mutant_vector = np.clip(mutant_vector, bounds[:, 0], bounds[:, 1])  # Clip the mutant vector\n",
    "\n",
    "            new_value = (mutant_vector_before_clip - mutant_vector) / 2  # Invert and divide by two\n",
    "            new_value_temp = [(mutant_vector_before_clip[i] - mutant_vector[i]) * (np.random.random()+0.000001) if mutant_vector_before_clip[i] > bounds[i,1] else mutant_vector_before_clip[i] for i in range(len(new_value))]\n",
    "            new_value = [(new_value_temp[i] - mutant_vector_before_clip[i]) * (np.random.random()+0.000001) if new_value_temp[i] < bounds[i,0] else new_value_temp[i] for i in range(len(new_value))]\n",
    "\n",
    "\n",
    "            trial_vector = np.where(np.random.rand(num_dimensions) < CR, new_value, target_vector)  # Use the new value in the trial vector\n",
    "\n",
    "            fitness = objective_func(trial_vector)\n",
    "            if fitness < best_fitness:\n",
    "                best_solution = trial_vector\n",
    "                best_fitness = fitness\n",
    "\n",
    "            population[i] = trial_vector\n",
    "\n",
    "    return best_solution, best_fitness"
   ]
  },
  {
   "cell_type": "code",
   "execution_count": null,
   "metadata": {},
   "outputs": [],
   "source": [
    "for datasetNumber in range(1,21):\n",
    "\n",
    "    print('Training number: ',datasetNumber)\n",
    "\n",
    "    data = pd.read_csv('trainings/CNN_'+ samplingMethod +'/training_'+ str(datasetNumber) +'.csv')\n",
    "    clean_data = dataTreatment.clean_data(data)\n",
    "    half_data,other_half_data = dataTreatment.divide_samplings(clean_data)\n",
    "    loss_data,data_only,smallest_loss_local = dataTreatment.data_from_loss(half_data)\n",
    "\n",
    "    #Gaussian Process and Acquisition Function\n",
    "    print('Gaussian Regression Interpolation')\n",
    "    surrogate_values = gaussianRegression.gaussianProcess(data_only,loss_data,other_half_data,smallest_loss_local)\n",
    "\n",
    "    fitness_values = surrogate_values[:num_particles]\n",
    "    particles_position = other_half_data[:num_particles,:-1]"
   ]
  },
  {
   "cell_type": "code",
   "execution_count": 43,
   "metadata": {},
   "outputs": [],
   "source": [
    "def objective_func(x):\n",
    "    return np.sum(x**2)"
   ]
  },
  {
   "cell_type": "code",
   "execution_count": 44,
   "metadata": {},
   "outputs": [
    {
     "name": "stdout",
     "output_type": "stream",
     "text": [
      "Best solution: [0. 0.]\n",
      "Best fitness: 0.0\n"
     ]
    }
   ],
   "source": [
    "# Define the bounds\n",
    "bounds = np.array([[-5.0, 5.0], [-5.0, 5.0]])\n",
    "\n",
    "# Call the differential_evolution function\n",
    "best_solution, best_fitness = differential_evolution(objective_func, bounds)\n",
    "\n",
    " # Print the results\n",
    "print(f\"Best solution: {best_solution}\")\n",
    "print(f\"Best fitness: {best_fitness}\")"
   ]
  },
  {
   "cell_type": "code",
   "execution_count": 30,
   "metadata": {},
   "outputs": [],
   "source": [
    "import numpy as np\n",
    "\n",
    "def discrete_differential_algorithm(objective_func, bounds, population_size=50, max_generations=100, F=0.5, CR=0.7):\n",
    "    num_dimensions = len(bounds)\n",
    "    population = np.random.randint(bounds[:, 0], bounds[:, 1]+1, size=(population_size, num_dimensions))\n",
    "    best_solution = None\n",
    "    best_fitness = np.inf\n",
    "\n",
    "    for generation in range(max_generations):\n",
    "        for i in range(population_size):\n",
    "            target_vector = population[i]\n",
    "            indices = [idx for idx in range(population_size) if idx != i]\n",
    "            random_indices = np.random.choice(indices, size=3, replace=False)\n",
    "            random_vectors = population[random_indices]\n",
    "\n",
    "            mutant_vector = population[random_indices[0]] + F * (population[random_indices[1]] - population[random_indices[2]])\n",
    "            mutant_vector_before_clip = mutant_vector.copy()\n",
    "            mutant_vector = np.clip(mutant_vector, bounds[:, 0], bounds[:, 1])\n",
    "\n",
    "            new_value = (mutant_vector_before_clip - mutant_vector) / 2  # Invert and divide by two\n",
    "            new_value_temp = [(mutant_vector_before_clip[i] - mutant_vector[i]) * (np.random.random()+0.000001) if mutant_vector_before_clip[i] > bounds[i,1] else mutant_vector_before_clip[i] for i in range(len(new_value))]\n",
    "            new_value = [(new_value_temp[i] - mutant_vector_before_clip[i]) * (np.random.random()+0.000001) if new_value_temp[i] < bounds[i,0] else new_value_temp[i] for i in range(len(new_value))]\n",
    "\n",
    "\n",
    "            trial_vector = np.where(np.random.rand(num_dimensions) < CR, mutant_vector, target_vector)\n",
    "\n",
    "            fitness = objective_func(trial_vector)\n",
    "            if fitness < best_fitness:\n",
    "                best_solution = trial_vector\n",
    "                best_fitness = fitness\n",
    "\n",
    "            population[i] = trial_vector\n",
    "\n",
    "    return best_solution, best_fitness\n"
   ]
  },
  {
   "cell_type": "code",
   "execution_count": 41,
   "metadata": {},
   "outputs": [
    {
     "name": "stdout",
     "output_type": "stream",
     "text": [
      "Best Solution: [ 0.  -1.   0.  -0.5  0. ]\n",
      "Best Fitness: 1.25\n"
     ]
    }
   ],
   "source": [
    "# Define the bounds for each dimension\n",
    "bounds = np.array([[-5, 5]] * 5)\n",
    "\n",
    "# Run the algorithm\n",
    "best_solution, best_fitness = discrete_differential_algorithm(objective_func, bounds)\n",
    "\n",
    "print(\"Best Solution:\", best_solution)\n",
    "print(\"Best Fitness:\", best_fitness)"
   ]
  },
  {
   "cell_type": "code",
   "execution_count": null,
   "metadata": {},
   "outputs": [],
   "source": [
    "import numpy as np\n",
    "\n",
    "def de(fobj, bounds, mut=0.8, crossp=0.7, popsize=20, its=1000):\n",
    "    dimensions = len(bounds)\n",
    "    pop = np.random.rand(popsize, dimensions)\n",
    "    min_b, max_b = np.asarray(bounds).T\n",
    "    diff = np.fabs(min_b - max_b)\n",
    "    pop_denorm = min_b + pop * diff\n",
    "    fitness = np.asarray([fobj(ind) for ind in pop_denorm])\n",
    "    best_idx = np.argmin(fitness)\n",
    "    best = pop_denorm[best_idx]\n",
    "    for i in range(its):\n",
    "        for j in range(popsize):\n",
    "            idxs = [idx for idx in range(popsize) if idx != j]\n",
    "            a, b, c = pop[np.random.choice(idxs, 3, replace = False)]\n",
    "            mutant = np.clip(a + mut * (b - c), 0, 1)\n",
    "            cross_points = np.random.rand(dimensions) < crossp\n",
    "            if not np.any(cross_points):\n",
    "                cross_points[np.random.randint(0, dimensions)] = True\n",
    "            trial = np.where(cross_points, mutant, pop[j])\n",
    "            trial_denorm = min_b + trial * diff\n",
    "            f = fobj(trial_denorm)\n",
    "            if f < fitness[j]:\n",
    "                fitness[j] = f\n",
    "                pop[j] = trial\n",
    "                if f < fitness[best_idx]:\n",
    "                    best_idx = j\n",
    "                    best = trial_denorm\n",
    "        yield best, fitness[best_idx]\n",
    "\n",
    "# Example usage:\n",
    "for d in de(lambda x: x**2, bounds=[(-100, 100)]):\n",
    "    print(d)"
   ]
  },
  {
   "cell_type": "code",
   "execution_count": null,
   "metadata": {},
   "outputs": [],
   "source": []
  }
 ],
 "metadata": {
  "kernelspec": {
   "display_name": "Python 3",
   "language": "python",
   "name": "python3"
  },
  "language_info": {
   "codemirror_mode": {
    "name": "ipython",
    "version": 3
   },
   "file_extension": ".py",
   "mimetype": "text/x-python",
   "name": "python",
   "nbconvert_exporter": "python",
   "pygments_lexer": "ipython3",
   "version": "3.11.7"
  }
 },
 "nbformat": 4,
 "nbformat_minor": 2
}
